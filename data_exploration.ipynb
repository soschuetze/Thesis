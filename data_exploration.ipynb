{
 "cells": [
  {
   "cell_type": "code",
   "execution_count": 110,
   "id": "e6a11563-f88a-477a-9d85-c6022f98992d",
   "metadata": {},
   "outputs": [],
   "source": [
    "import json\n",
    "import re\n",
    "import matplotlib.pyplot as plt\n",
    "import os"
   ]
  },
  {
   "cell_type": "code",
   "execution_count": 111,
   "id": "e0545a2f-7460-4127-96de-b28a8ed036a4",
   "metadata": {},
   "outputs": [],
   "source": [
    "def iterate_files(do_percents):\n",
    "    # assign directory\n",
    "    directory = '/home/ss6/downloads/BLM'\n",
    "    dates_list = []\n",
    "    for filename in os.listdir(directory):\n",
    "        if filename != \"tokenized_tweets.txt\":\n",
    "            f = os.path.join(directory, filename)\n",
    "            # checking if it is a file\n",
    "            if os.path.isfile(f):\n",
    "                if do_percents:\n",
    "                    dates_list = dates_list + calculate_percents(f)\n",
    "                else:\n",
    "                    dates_list = dates_list + create_time_series(f)\n",
    "    x, y = zip(*dates_list) # unpack a list of pairs into two tuples\n",
    "    return x,y"
   ]
  },
  {
   "cell_type": "code",
   "execution_count": 112,
   "id": "0628fc63-965a-4cd7-95eb-2a2495067fd4",
   "metadata": {},
   "outputs": [],
   "source": [
    "def n_largest(num, item_list):\n",
    "    for i in range(0,num):\n",
    "        max1 = 0\n",
    "        for j in range(len(item_list)):    \n",
    "            if item_list[j][1] > max1:\n",
    "                max1 = item_list[j][1]\n",
    "                remove_index = j\n",
    "                \n",
    "        item_list.remove(item_list[j]);\n",
    "        final_list.append(item_list[j])\n",
    "         \n",
    "    return final_list"
   ]
  },
  {
   "cell_type": "code",
   "execution_count": 121,
   "id": "85002f67-d861-479e-ab67-8eb5e04bb5ba",
   "metadata": {},
   "outputs": [],
   "source": [
    "def iterate_hashtags():\n",
    "    directory = '/home/ss6/downloads/BLM'\n",
    "    hashtags_list = []\n",
    "    for filename in os.listdir(directory):\n",
    "        if filename != \"tokenized_tweets.txt\":\n",
    "            f = os.path.join(directory, filename)\n",
    "            # checking if it is a file\n",
    "            if os.path.isfile(f):\n",
    "                hashtags_list = hashtags_list + most_popular_hashtags(f)\n",
    "    final_list = n_largest_values(10, hashtags_list)\n",
    "    x, y = zip(*final_list)\n",
    "    return x,y"
   ]
  },
  {
   "cell_type": "code",
   "execution_count": 114,
   "id": "af3c998b-857c-4bc8-808f-8cb46420d885",
   "metadata": {},
   "outputs": [],
   "source": [
    "def calculate_percents(file_name):\n",
    "    time_dict = {}\n",
    "    total_date_dict = {}\n",
    "    with open(file_name) as data_file:    \n",
    "        data = json.load(data_file)\n",
    "        for i in data:\n",
    "            text = i[\"text\"].lower()\n",
    "            date = i[\"created_at\"].split(\" \")[0]\n",
    "            \n",
    "            if date in total_date_dict:\n",
    "                total_date_dict[date] = total_date_dict[date] + 1\n",
    "            else:\n",
    "                total_date_dict[date] = 1\n",
    "                \n",
    "            #getting tweets related to voting    \n",
    "            if re.match(r'^[vot].*',text):\n",
    "                if date in time_dict:\n",
    "                    time_dict[date] = time_dict[date] + 1\n",
    "                else:\n",
    "                    time_dict[date] = 1\n",
    "                    \n",
    "        for day in time_dict:\n",
    "            time_dict[day] = round(time_dict[day]/total_date_dict[day], 2)\n",
    "        lists = sorted(time_dict.items()) # sorted by key, return a list of tuples\n",
    "        return lists"
   ]
  },
  {
   "cell_type": "code",
   "execution_count": 115,
   "id": "c3fef5ae-9a35-459b-b70b-683e822517ca",
   "metadata": {},
   "outputs": [],
   "source": [
    "def create_time_series(file_name):\n",
    "    time_dict = {}\n",
    "    with open(file_name) as data_file:    \n",
    "        data = json.load(data_file)\n",
    "        for i in data:\n",
    "            text = i[\"text\"].lower()\n",
    "            date = i[\"created_at\"].split(\" \")[0]\n",
    "            if re.match(r'^[vot].*',text):\n",
    "                if date in time_dict:\n",
    "                    time_dict[date] = time_dict[date] + 1\n",
    "                else:\n",
    "                    time_dict[date] = 1\n",
    "        lists = sorted(time_dict.items()) # sorted by key, return a list of tuples\n",
    "        return lists"
   ]
  },
  {
   "cell_type": "code",
   "execution_count": 116,
   "id": "1b8fea73-8782-4164-947b-99e7ec2d636c",
   "metadata": {},
   "outputs": [],
   "source": [
    "def most_popular_hashtags(file_name):\n",
    "    hashtag_dict = {}\n",
    "    with open(file_name) as data_file:    \n",
    "        data = json.load(data_file)\n",
    "        for i in data:\n",
    "            for h in i['hashtags']:\n",
    "                hashtag = h.lower()\n",
    "                if hashtag in hashtag_dict:\n",
    "                    hashtag_dict[hashtag] = hashtag_dict[hashtag] + 1\n",
    "                else:\n",
    "                    hashtag_dict[hashtag] = 1\n",
    "        lists = sorted(hashtag_dict.items()) # sorted by key, return a list of tuples\n",
    "        return lists"
   ]
  },
  {
   "cell_type": "code",
   "execution_count": 119,
   "id": "bbd2ed25-adae-4bbc-8275-6141703ff729",
   "metadata": {},
   "outputs": [],
   "source": [
    "def main():\n",
    "    f = plt.figure(1)\n",
    "    x,y = iterate_files(False)\n",
    "    fig, ax = plt.subplots()\n",
    "    ax.xaxis.set_major_locator(plt.MaxNLocator(6))\n",
    "    plt.plot(x, y)\n",
    "    plt.xlabel(\"Date\")\n",
    "    plt.ylabel(\"Number of tweets\")\n",
    "    plt.title(\"Number of tweets about voting per day\")\n",
    "    plt.xticks(rotation = 45)\n",
    "    f.show()\n",
    "    \n",
    "    g = plt.figure(2)\n",
    "    x,y = iterate_files(True)\n",
    "    fig, ax = plt.subplots()\n",
    "    ax.xaxis.set_major_locator(plt.MaxNLocator(6))\n",
    "    plt.plot(x, y)\n",
    "    plt.xlabel(\"Date\")\n",
    "    plt.ylabel(\"Percent of tweets\")\n",
    "    plt.title(\"Percent of tweets about voting per day\")\n",
    "    plt.xticks(rotation = 45)\n",
    "    g.show()\n",
    "    \n",
    "    h = plt.figure(3)\n",
    "    x,y = iterate_hashtags()\n",
    "    fig, ax = plt.subplots()\n",
    "    plt.bar(x, y)\n",
    "    plt.xlabel(\"Date\")\n",
    "    plt.ylabel(\"Percent of tweets\")\n",
    "    plt.title(\"Percent of tweets about voting per day\")\n",
    "    plt.xticks(rotation = 45)\n",
    "    h.show()"
   ]
  },
  {
   "cell_type": "code",
   "execution_count": null,
   "id": "079aca00-9693-4780-89d3-3ec39ea038f9",
   "metadata": {},
   "outputs": [],
   "source": [
    "if __name__ == \"__main__\": \n",
    "    main()"
   ]
  },
  {
   "cell_type": "code",
   "execution_count": null,
   "id": "fdd044e6-30ad-484c-9fb9-16965473fb75",
   "metadata": {},
   "outputs": [],
   "source": []
  }
 ],
 "metadata": {
  "kernelspec": {
   "display_name": "Python 3 (ipykernel)",
   "language": "python",
   "name": "python3"
  },
  "language_info": {
   "codemirror_mode": {
    "name": "ipython",
    "version": 3
   },
   "file_extension": ".py",
   "mimetype": "text/x-python",
   "name": "python",
   "nbconvert_exporter": "python",
   "pygments_lexer": "ipython3",
   "version": "3.9.7"
  }
 },
 "nbformat": 4,
 "nbformat_minor": 5
}
